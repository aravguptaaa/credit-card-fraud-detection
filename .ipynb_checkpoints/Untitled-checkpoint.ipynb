{
 "cells": [
  {
   "cell_type": "code",
   "execution_count": null,
   "id": "9c8c8fe2-6c4b-42f9-be0a-6f1c580fe46b",
   "metadata": {},
   "outputs": [],
   "source": []
  }
 ],
 "metadata": {
  "kernelspec": {
   "display_name": "",
   "name": ""
  },
  "language_info": {
   "name": ""
  }
 },
 "nbformat": 4,
 "nbformat_minor": 5
}
